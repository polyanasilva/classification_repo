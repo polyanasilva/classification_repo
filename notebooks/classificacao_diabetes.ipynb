{
 "cells": [
  {
   "cell_type": "markdown",
   "id": "26dec706",
   "metadata": {},
   "source": [
    "# Classification of patients with diabetes"
   ]
  },
  {
   "cell_type": "code",
   "execution_count": 26,
   "id": "cd461764",
   "metadata": {},
   "outputs": [],
   "source": [
    "import pandas as pd\n",
    "from sklearn.model_selection import train_test_split\n",
    "from sklearn.tree import DecisionTreeClassifier\n",
    "from sklearn.ensemble import RandomForestClassifier\n",
    "from sklearn.metrics import confusion_matrix, ConfusionMatrixDisplay"
   ]
  },
  {
   "cell_type": "code",
   "execution_count": 27,
   "id": "151382d4",
   "metadata": {},
   "outputs": [
    {
     "data": {
      "text/html": [
       "<div>\n",
       "<style scoped>\n",
       "    .dataframe tbody tr th:only-of-type {\n",
       "        vertical-align: middle;\n",
       "    }\n",
       "\n",
       "    .dataframe tbody tr th {\n",
       "        vertical-align: top;\n",
       "    }\n",
       "\n",
       "    .dataframe thead th {\n",
       "        text-align: right;\n",
       "    }\n",
       "</style>\n",
       "<table border=\"1\" class=\"dataframe\">\n",
       "  <thead>\n",
       "    <tr style=\"text-align: right;\">\n",
       "      <th></th>\n",
       "      <th>glicemia</th>\n",
       "      <th>pressao_sanguinea</th>\n",
       "      <th>dobra_cutane_triceps</th>\n",
       "      <th>insulina</th>\n",
       "      <th>imc</th>\n",
       "      <th>diabetes</th>\n",
       "    </tr>\n",
       "  </thead>\n",
       "  <tbody>\n",
       "    <tr>\n",
       "      <th>0</th>\n",
       "      <td>66</td>\n",
       "      <td>23</td>\n",
       "      <td>94</td>\n",
       "      <td>28.1</td>\n",
       "      <td>0.167</td>\n",
       "      <td>0</td>\n",
       "    </tr>\n",
       "    <tr>\n",
       "      <th>1</th>\n",
       "      <td>40</td>\n",
       "      <td>35</td>\n",
       "      <td>168</td>\n",
       "      <td>43.1</td>\n",
       "      <td>2.288</td>\n",
       "      <td>1</td>\n",
       "    </tr>\n",
       "    <tr>\n",
       "      <th>2</th>\n",
       "      <td>50</td>\n",
       "      <td>32</td>\n",
       "      <td>88</td>\n",
       "      <td>31.0</td>\n",
       "      <td>0.248</td>\n",
       "      <td>1</td>\n",
       "    </tr>\n",
       "    <tr>\n",
       "      <th>3</th>\n",
       "      <td>70</td>\n",
       "      <td>45</td>\n",
       "      <td>543</td>\n",
       "      <td>30.5</td>\n",
       "      <td>0.158</td>\n",
       "      <td>1</td>\n",
       "    </tr>\n",
       "    <tr>\n",
       "      <th>4</th>\n",
       "      <td>60</td>\n",
       "      <td>23</td>\n",
       "      <td>846</td>\n",
       "      <td>30.1</td>\n",
       "      <td>0.398</td>\n",
       "      <td>1</td>\n",
       "    </tr>\n",
       "  </tbody>\n",
       "</table>\n",
       "</div>"
      ],
      "text/plain": [
       "   glicemia  pressao_sanguinea  dobra_cutane_triceps  insulina    imc  \\\n",
       "0        66                 23                    94      28.1  0.167   \n",
       "1        40                 35                   168      43.1  2.288   \n",
       "2        50                 32                    88      31.0  0.248   \n",
       "3        70                 45                   543      30.5  0.158   \n",
       "4        60                 23                   846      30.1  0.398   \n",
       "\n",
       "   diabetes  \n",
       "0         0  \n",
       "1         1  \n",
       "2         1  \n",
       "3         1  \n",
       "4         1  "
      ]
     },
     "execution_count": 27,
     "metadata": {},
     "output_type": "execute_result"
    }
   ],
   "source": [
    "data = pd.read_csv(\"../data/diabetes.csv\")\n",
    "data.head()"
   ]
  },
  {
   "cell_type": "code",
   "execution_count": 28,
   "id": "a0562250",
   "metadata": {},
   "outputs": [],
   "source": [
    "# Separation of explanatory variables from the target variable\n",
    "\n",
    "x = data.drop(\"diabetes\", axis=1)\n",
    "y = data[\"diabetes\"]"
   ]
  },
  {
   "cell_type": "code",
   "execution_count": 29,
   "id": "314e1a81",
   "metadata": {},
   "outputs": [],
   "source": [
    "# Data split: 5% for testing, 23% for validation, 72% for training\n",
    "\n",
    "x, x_test, y, y_test = train_test_split(\n",
    "    x, y, test_size=0.05, random_state=12, stratify=y\n",
    ")\n",
    "x_train, x_valid, y_train, y_valid = train_test_split(\n",
    "    x, y, test_size=0.25, random_state=12, stratify=y\n",
    ")\n"
   ]
  },
  {
   "cell_type": "markdown",
   "id": "0964aa53",
   "metadata": {},
   "source": [
    "## Decision Tree"
   ]
  },
  {
   "cell_type": "code",
   "execution_count": 30,
   "id": "aaa21716",
   "metadata": {},
   "outputs": [
    {
     "name": "stdout",
     "output_type": "stream",
     "text": [
      "0.55\n",
      "0.648936170212766\n"
     ]
    }
   ],
   "source": [
    "tree = DecisionTreeClassifier(random_state=12, max_depth=5)\n",
    "tree.fit(x_train, y_train)\n",
    "\n",
    "print(tree.score(x_test, y_test))\n",
    "print(tree.score(x_valid, y_valid))"
   ]
  },
  {
   "cell_type": "code",
   "execution_count": 31,
   "id": "d7fdfcf5",
   "metadata": {},
   "outputs": [
    {
     "name": "stdout",
     "output_type": "stream",
     "text": [
      "[[45 18]\n",
      " [15 16]]\n"
     ]
    },
    {
     "data": {
      "text/plain": [
       "<sklearn.metrics._plot.confusion_matrix.ConfusionMatrixDisplay at 0x12e17c710>"
      ]
     },
     "execution_count": 31,
     "metadata": {},
     "output_type": "execute_result"
    },
    {
     "data": {
      "image/png": "[encoded data removed]",
      "text/plain": [
       "<Figure size 640x480 with 2 Axes>"
      ]
     },
     "metadata": {},
     "output_type": "display_data"
    }
   ],
   "source": [
    "y_prev = tree.predict(x_valid)\n",
    "cm = confusion_matrix(y_valid, y_prev)\n",
    "print(cm)\n",
    "\n",
    "visualization = ConfusionMatrixDisplay(confusion_matrix=cm, display_labels=[\"Not diabetes\", \"Diabetes\"])\n",
    "visualization.plot()"
   ]
  },
  {
   "cell_type": "markdown",
   "id": "a8c870c7",
   "metadata": {},
   "source": [
    "## Random Forest"
   ]
  },
  {
   "cell_type": "code",
   "execution_count": 32,
   "id": "d783e73b",
   "metadata": {},
   "outputs": [
    {
     "name": "stdout",
     "output_type": "stream",
     "text": [
      "0.65\n",
      "0.648936170212766\n",
      "[[52 11]\n",
      " [22  9]]\n"
     ]
    },
    {
     "data": {
      "text/plain": [
       "<sklearn.metrics._plot.confusion_matrix.ConfusionMatrixDisplay at 0x12df09f20>"
      ]
     },
     "execution_count": 32,
     "metadata": {},
     "output_type": "execute_result"
    },
    {
     "data": {
      "image/png": "[encoded data removed]",
      "text/plain": [
       "<Figure size 640x480 with 2 Axes>"
      ]
     },
     "metadata": {},
     "output_type": "display_data"
    }
   ],
   "source": [
    "from sklearn.metrics import confusion_matrix, ConfusionMatrixDisplay\n",
    "\n",
    "ramdom_forest = RandomForestClassifier(random_state=12, max_depth=5, n_estimators=100)\n",
    "ramdom_forest.fit(x_train, y_train)\n",
    "print(ramdom_forest.score(x_test, y_test))\n",
    "print(ramdom_forest.score(x_valid, y_valid))\n",
    "\n",
    "y_prev = ramdom_forest.predict(x_valid)\n",
    "cm = confusion_matrix(y_valid, y_prev)\n",
    "print(cm)\n",
    "visualization = ConfusionMatrixDisplay(confusion_matrix=cm, display_labels=[\"Not diabetes\", \"Diabetes\"])\n",
    "visualization.plot()"
   ]
  }
 ],
 "metadata": {
  "kernelspec": {
   "display_name": "3.13.0",
   "language": "python",
   "name": "python3"
  },
  "language_info": {
   "codemirror_mode": {
    "name": "ipython",
    "version": 3
   },
   "file_extension": ".py",
   "mimetype": "text/x-python",
   "name": "python",
   "nbconvert_exporter": "python",
   "pygments_lexer": "ipython3",
   "version": "3.13.0"
  }
 },
 "nbformat": 4,
 "nbformat_minor": 5
}
