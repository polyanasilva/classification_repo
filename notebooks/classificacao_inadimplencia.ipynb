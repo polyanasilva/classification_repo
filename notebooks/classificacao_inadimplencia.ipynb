{
 "cells": [
  {
   "cell_type": "code",
   "execution_count": 3,
   "id": "c9405806",
   "metadata": {},
   "outputs": [
    {
     "data": {
      "text/html": [
       "<div>\n",
       "<style scoped>\n",
       "    .dataframe tbody tr th:only-of-type {\n",
       "        vertical-align: middle;\n",
       "    }\n",
       "\n",
       "    .dataframe tbody tr th {\n",
       "        vertical-align: top;\n",
       "    }\n",
       "\n",
       "    .dataframe thead th {\n",
       "        text-align: right;\n",
       "    }\n",
       "</style>\n",
       "<table border=\"1\" class=\"dataframe\">\n",
       "  <thead>\n",
       "    <tr style=\"text-align: right;\">\n",
       "      <th></th>\n",
       "      <th>receita_cliente</th>\n",
       "      <th>anuidade_emprestimo</th>\n",
       "      <th>anos_casa_propria</th>\n",
       "      <th>telefone_trab</th>\n",
       "      <th>avaliacao_cidade</th>\n",
       "      <th>score_1</th>\n",
       "      <th>score_2</th>\n",
       "      <th>score_3</th>\n",
       "      <th>score_social</th>\n",
       "      <th>troca_telefone</th>\n",
       "      <th>inadimplente</th>\n",
       "    </tr>\n",
       "  </thead>\n",
       "  <tbody>\n",
       "    <tr>\n",
       "      <th>0</th>\n",
       "      <td>12600.0</td>\n",
       "      <td>3569.400000</td>\n",
       "      <td>12.157324</td>\n",
       "      <td>1</td>\n",
       "      <td>2.0</td>\n",
       "      <td>0.057153</td>\n",
       "      <td>0.527227</td>\n",
       "      <td>0.513171</td>\n",
       "      <td>0.117428</td>\n",
       "      <td>2545.0</td>\n",
       "      <td>0</td>\n",
       "    </tr>\n",
       "    <tr>\n",
       "      <th>1</th>\n",
       "      <td>9000.0</td>\n",
       "      <td>2722.188351</td>\n",
       "      <td>7.000000</td>\n",
       "      <td>0</td>\n",
       "      <td>2.0</td>\n",
       "      <td>0.657661</td>\n",
       "      <td>0.285898</td>\n",
       "      <td>0.614414</td>\n",
       "      <td>0.222700</td>\n",
       "      <td>495.0</td>\n",
       "      <td>0</td>\n",
       "    </tr>\n",
       "    <tr>\n",
       "      <th>2</th>\n",
       "      <td>15750.0</td>\n",
       "      <td>4477.500000</td>\n",
       "      <td>12.000000</td>\n",
       "      <td>0</td>\n",
       "      <td>2.0</td>\n",
       "      <td>0.501213</td>\n",
       "      <td>0.695423</td>\n",
       "      <td>0.513171</td>\n",
       "      <td>0.117428</td>\n",
       "      <td>1212.0</td>\n",
       "      <td>0</td>\n",
       "    </tr>\n",
       "    <tr>\n",
       "      <th>3</th>\n",
       "      <td>9000.0</td>\n",
       "      <td>1309.050000</td>\n",
       "      <td>12.157324</td>\n",
       "      <td>0</td>\n",
       "      <td>3.0</td>\n",
       "      <td>0.501213</td>\n",
       "      <td>0.155973</td>\n",
       "      <td>0.513171</td>\n",
       "      <td>0.117428</td>\n",
       "      <td>515.0</td>\n",
       "      <td>0</td>\n",
       "    </tr>\n",
       "    <tr>\n",
       "      <th>4</th>\n",
       "      <td>7650.0</td>\n",
       "      <td>1125.000000</td>\n",
       "      <td>12.157324</td>\n",
       "      <td>0</td>\n",
       "      <td>2.0</td>\n",
       "      <td>0.294328</td>\n",
       "      <td>0.152076</td>\n",
       "      <td>0.513171</td>\n",
       "      <td>0.117428</td>\n",
       "      <td>162.0</td>\n",
       "      <td>0</td>\n",
       "    </tr>\n",
       "  </tbody>\n",
       "</table>\n",
       "</div>"
      ],
      "text/plain": [
       "   receita_cliente  anuidade_emprestimo  anos_casa_propria  telefone_trab  \\\n",
       "0          12600.0          3569.400000          12.157324              1   \n",
       "1           9000.0          2722.188351           7.000000              0   \n",
       "2          15750.0          4477.500000          12.000000              0   \n",
       "3           9000.0          1309.050000          12.157324              0   \n",
       "4           7650.0          1125.000000          12.157324              0   \n",
       "\n",
       "   avaliacao_cidade   score_1   score_2   score_3  score_social  \\\n",
       "0               2.0  0.057153  0.527227  0.513171      0.117428   \n",
       "1               2.0  0.657661  0.285898  0.614414      0.222700   \n",
       "2               2.0  0.501213  0.695423  0.513171      0.117428   \n",
       "3               3.0  0.501213  0.155973  0.513171      0.117428   \n",
       "4               2.0  0.294328  0.152076  0.513171      0.117428   \n",
       "\n",
       "   troca_telefone  inadimplente  \n",
       "0          2545.0             0  \n",
       "1           495.0             0  \n",
       "2          1212.0             0  \n",
       "3           515.0             0  \n",
       "4           162.0             0  "
      ]
     },
     "execution_count": 3,
     "metadata": {},
     "output_type": "execute_result"
    }
   ],
   "source": [
    "import pandas as pd\n",
    "\n",
    "data = pd.read_csv(\"../data/inadimplencia.csv\")\n",
    "data.head()"
   ]
  },
  {
   "cell_type": "code",
   "execution_count": 4,
   "id": "dfb043d0",
   "metadata": {},
   "outputs": [],
   "source": [
    "# separacao das variaveis explicativas e alvo\n",
    "\n",
    "x = data.drop(\"inadimplente\", axis=1)\n",
    "y = data[\"inadimplente\"]"
   ]
  },
  {
   "cell_type": "code",
   "execution_count": 5,
   "id": "ccfee4f3",
   "metadata": {},
   "outputs": [],
   "source": [
    "# como aparentemente nao ha variaveis categoricas e a alvo ja esta em formato numerico, nao vai precisar de nenhuma transofrmacao nesse sentido\n",
    "# divisao dos dados vai ser % para treino e 15% para teste\n",
    "\n",
    "from sklearn.model_selection import train_test_split\n",
    "\n",
    "x, x_teste, y, y_teste = train_test_split(\n",
    "    x, y, random_state=5, test_size=0.15, stratify=y\n",
    ")\n",
    "x_treino, x_validacao, y_treino, y_validacao = train_test_split(\n",
    "    x, y, random_state=5, stratify=y\n",
    ")"
   ]
  },
  {
   "cell_type": "code",
   "execution_count": 6,
   "id": "99f48d27",
   "metadata": {},
   "outputs": [
    {
     "name": "stdout",
     "output_type": "stream",
     "text": [
      "0.9067127344521224\n",
      "0.9057573382109573\n"
     ]
    }
   ],
   "source": [
    "from sklearn.tree import DecisionTreeClassifier\n",
    "\n",
    "arvore = DecisionTreeClassifier(random_state=12, max_depth=10)\n",
    "arvore.fit(x_treino, y_treino)\n",
    "print(arvore.score(x_teste, y_teste))\n",
    "print(arvore.score(x_validacao, y_validacao))"
   ]
  },
  {
   "cell_type": "markdown",
   "id": "72f785b3",
   "metadata": {},
   "source": [
    "## matriz de confusao"
   ]
  },
  {
   "cell_type": "code",
   "execution_count": 7,
   "id": "40e987a9",
   "metadata": {},
   "outputs": [
    {
     "name": "stdout",
     "output_type": "stream",
     "text": [
      "[[10356   123]\n",
      " [  959    43]]\n"
     ]
    },
    {
     "data": {
      "text/plain": [
       "<sklearn.metrics._plot.confusion_matrix.ConfusionMatrixDisplay at 0x10e0f2120>"
      ]
     },
     "execution_count": 7,
     "metadata": {},
     "output_type": "execute_result"
    },
    {
     "data": {
      "image/png": "[encoded data removed]",
      "text/plain": [
       "<Figure size 640x480 with 2 Axes>"
      ]
     },
     "metadata": {},
     "output_type": "display_data"
    }
   ],
   "source": [
    "from sklearn.metrics import confusion_matrix, ConfusionMatrixDisplay\n",
    "\n",
    "y_prev = arvore.predict(x_validacao)\n",
    "matriz_confusao = confusion_matrix(y_validacao, y_prev)\n",
    "print(matriz_confusao)\n",
    "\n",
    "visualizacao = ConfusionMatrixDisplay(confusion_matrix=matriz_confusao, display_labels=[\"Adimplente\", \"Inadimplente\"])\n",
    "visualizacao.plot()"
   ]
  },
  {
   "cell_type": "markdown",
   "id": "f6304aa0",
   "metadata": {},
   "source": [
    "## random forest"
   ]
  },
  {
   "cell_type": "code",
   "execution_count": 8,
   "id": "86e4cdc6",
   "metadata": {},
   "outputs": [
    {
     "name": "stdout",
     "output_type": "stream",
     "text": [
      "0.9125123395853899\n",
      "[[10477     2]\n",
      " [  998     4]]\n"
     ]
    },
    {
     "data": {
      "text/plain": [
       "<sklearn.metrics._plot.confusion_matrix.ConfusionMatrixDisplay at 0x1160c4050>"
      ]
     },
     "execution_count": 8,
     "metadata": {},
     "output_type": "execute_result"
    },
    {
     "data": {
      "image/png": "[encoded data removed]",
      "text/plain": [
       "<Figure size 640x480 with 2 Axes>"
      ]
     },
     "metadata": {},
     "output_type": "display_data"
    }
   ],
   "source": [
    "from sklearn.ensemble import RandomForestClassifier\n",
    "\n",
    "modelo = RandomForestClassifier(random_state=12, max_depth=10)\n",
    "modelo.fit(x_treino, y_treino)\n",
    "print(modelo.score(x_teste, y_teste))\n",
    "\n",
    "y_prev_forest = modelo.predict(x_validacao)\n",
    "matriz_confusao_forest = confusion_matrix(y_validacao, y_prev_forest)\n",
    "print(matriz_confusao_forest)\n",
    "\n",
    "visualizacao = ConfusionMatrixDisplay(confusion_matrix=matriz_confusao_forest, display_labels=[\"Adimplente\", \"Inadimplente\"])\n",
    "visualizacao.plot()"
   ]
  },
  {
   "cell_type": "code",
   "execution_count": 9,
   "id": "86b70aba",
   "metadata": {},
   "outputs": [
    {
     "name": "stdout",
     "output_type": "stream",
     "text": [
      "acuracia:  0.9128995732079087\n",
      "precisao:  0.6666666666666666\n",
      "recall:  0.003992015968063872\n"
     ]
    }
   ],
   "source": [
    "from sklearn.metrics import accuracy_score\n",
    "\n",
    "# matriz é \n",
    "# [[TP  FP]\n",
    "# [FN  TN]]\n",
    "print(\"acuracia: \", accuracy_score(y_validacao, y_prev_forest))\n",
    "# a acuracia nao é uma metrica adequada porque a base de dados é desbalanceada = tp + tn / tp + tn + fp + fn\n",
    "\n",
    "# a precisao = verdadeiros positivos / (verdadeiros positivos + falsos positivos)\n",
    "from sklearn.metrics import precision_score\n",
    "print(\"precisao: \", precision_score(y_validacao, y_prev_forest))\n",
    "\n",
    "# o recall leva em consideracao os falsos negativos = verdadeiros positivos / (verdadeiros positivos + falsos negativos)\n",
    "from sklearn.metrics import recall_score\n",
    "print(\"recall: \", recall_score(y_validacao, y_prev_forest))\n"
   ]
  },
  {
   "cell_type": "markdown",
   "id": "e5605382",
   "metadata": {},
   "source": [
    "a metrica mais relevante depende do contexto do problema, no caso de inadimplencia, o recall é mais relevante, pois queremos identificar os inadimplentes, para evitar prejuizos, os falsos positivos apenas farao perder clientes bons, mas os falsos negativos podem gerar prejuizos financeiros maiores\n"
   ]
  },
  {
   "cell_type": "code",
   "execution_count": 10,
   "id": "e82f4cc5",
   "metadata": {},
   "outputs": [
    {
     "name": "stdout",
     "output_type": "stream",
     "text": [
      "f1 score:  0.007936507936507936\n"
     ]
    }
   ],
   "source": [
    "from sklearn.metrics import f1_score\n",
    "# f1 score é a media harmonica entre precisao e recall, = 2 x precisao x recall / (precisao + recall)\n",
    "\n",
    "print(\"f1 score: \", f1_score(y_validacao, y_prev_forest))"
   ]
  },
  {
   "cell_type": "markdown",
   "id": "b889608c",
   "metadata": {},
   "source": [
    "## curva roc"
   ]
  },
  {
   "cell_type": "code",
   "execution_count": 11,
   "id": "5dca0e3a",
   "metadata": {},
   "outputs": [
    {
     "data": {
      "text/plain": [
       "<sklearn.metrics._plot.roc_curve.RocCurveDisplay at 0x11600be00>"
      ]
     },
     "execution_count": 11,
     "metadata": {},
     "output_type": "execute_result"
    },
    {
     "data": {
      "image/png": "[encoded data removed]",
      "text/plain": [
       "<Figure size 640x480 with 1 Axes>"
      ]
     },
     "metadata": {},
     "output_type": "display_data"
    }
   ],
   "source": [
    "# a curva roc serve para avaliar se o nosso modelo ta conseguindo diferenciar bem uma classe da outra\n",
    "\n",
    "from sklearn.metrics import RocCurveDisplay\n",
    "\n",
    "RocCurveDisplay.from_predictions(y_validacao, y_prev_forest, name=\"Curva ROC - Random Forest\")\n"
   ]
  },
  {
   "cell_type": "code",
   "execution_count": 12,
   "id": "73b16ab3",
   "metadata": {},
   "outputs": [
    {
     "name": "stdout",
     "output_type": "stream",
     "text": [
      "AUC ROC:  0.5019005790308876\n"
     ]
    }
   ],
   "source": [
    "from sklearn.metrics import roc_auc_score\n",
    "\n",
    "print(\"AUC ROC: \", roc_auc_score(y_validacao, y_prev_forest))"
   ]
  },
  {
   "cell_type": "code",
   "execution_count": 13,
   "id": "64b910ca",
   "metadata": {},
   "outputs": [
    {
     "name": "stdout",
     "output_type": "stream",
     "text": [
      "AUC PR:  0.09464563086733557\n"
     ]
    },
    {
     "data": {
      "image/png": "[encoded data removed]",
      "text/plain": [
       "<Figure size 640x480 with 1 Axes>"
      ]
     },
     "metadata": {},
     "output_type": "display_data"
    }
   ],
   "source": [
    "from sklearn.metrics import PrecisionRecallDisplay, average_precision_score\n",
    "\n",
    "PrecisionRecallDisplay.from_predictions(y_validacao, y_prev, name=\"Curva PR - Decision Tree\")\n",
    "print(\"AUC PR: \", average_precision_score(y_validacao, y_prev))"
   ]
  },
  {
   "cell_type": "markdown",
   "id": "44d64ee1",
   "metadata": {},
   "source": [
    "## relatorio de metricas"
   ]
  },
  {
   "cell_type": "code",
   "execution_count": 14,
   "id": "fef8d6a5",
   "metadata": {},
   "outputs": [
    {
     "name": "stdout",
     "output_type": "stream",
     "text": [
      "              precision    recall  f1-score   support\n",
      "\n",
      "  Adimplente       0.91      1.00      0.95     10479\n",
      "Inadimplente       0.67      0.00      0.01      1002\n",
      "\n",
      "    accuracy                           0.91     11481\n",
      "   macro avg       0.79      0.50      0.48     11481\n",
      "weighted avg       0.89      0.91      0.87     11481\n",
      "\n"
     ]
    }
   ],
   "source": [
    "from sklearn.metrics import classification_report\n",
    "\n",
    "print(classification_report(y_validacao, y_prev_forest, target_names=[\"Adimplente\", \"Inadimplente\"]))"
   ]
  },
  {
   "cell_type": "markdown",
   "id": "80d699ff",
   "metadata": {},
   "source": [
    "## validacao cruzada - KFold"
   ]
  },
  {
   "cell_type": "code",
   "execution_count": 15,
   "id": "7a757e8f",
   "metadata": {},
   "outputs": [],
   "source": [
    "from sklearn.model_selection import KFold, cross_validate"
   ]
  },
  {
   "cell_type": "code",
   "execution_count": 16,
   "id": "346a1c41",
   "metadata": {},
   "outputs": [],
   "source": [
    "def intevalo_confianca(resultados, metrica=\"test_score\"):\n",
    "    media = resultados[metrica].mean()\n",
    "    desvio_padrao = resultados[metrica].std()\n",
    "    print(f\"Intervalo de confiança({metrica}): [{media-2*desvio_padrao}, {min(media+2*desvio_padrao, 1.0)}]\")"
   ]
  },
  {
   "cell_type": "code",
   "execution_count": 17,
   "id": "8f667689",
   "metadata": {},
   "outputs": [],
   "source": [
    "def relatorio_metricas(resultados):\n",
    "    for metrica in ['test_accuracy', 'test_recall', 'test_precision', 'test_f1']:\n",
    "        intevalo_confianca(resultados, metrica=metrica)\n"
   ]
  },
  {
   "cell_type": "code",
   "execution_count": 18,
   "id": "bdaf5124",
   "metadata": {},
   "outputs": [
    {
     "data": {
      "text/plain": [
       "{'fit_time': array([0.1175499 , 0.11785603, 0.11724782, 0.11628199, 0.1157732 ]),\n",
       " 'score_time': array([0.00599217, 0.00562096, 0.00558209, 0.00580788, 0.00541091]),\n",
       " 'test_accuracy': array([0.91355471, 0.90766551, 0.90766551, 0.91365418, 0.89949913]),\n",
       " 'test_recall': array([0.02642008, 0.01856436, 0.01845018, 0.01697128, 0.02312139]),\n",
       " 'test_precision': array([0.25974026, 0.21428571, 0.23076923, 0.24528302, 0.20408163]),\n",
       " 'test_f1': array([0.04796163, 0.03416856, 0.03416856, 0.03174603, 0.04153686])}"
      ]
     },
     "execution_count": 18,
     "metadata": {},
     "output_type": "execute_result"
    }
   ],
   "source": [
    "modelo = DecisionTreeClassifier(max_depth = 10)\n",
    "kf = KFold(n_splits=5, shuffle = True, random_state = 5)\n",
    "cv_resultados = cross_validate(modelo, x, y, cv=kf, scoring = ['accuracy','recall', 'precision', 'f1'])\n",
    "cv_resultados\n"
   ]
  },
  {
   "cell_type": "code",
   "execution_count": 19,
   "id": "93d1d9de",
   "metadata": {},
   "outputs": [
    {
     "name": "stdout",
     "output_type": "stream",
     "text": [
      "Intervalo de confiança(test_accuracy): [0.8980354730953676, 0.9187801386333451]\n",
      "Intervalo de confiança(test_recall): [0.013656583706200397, 0.027754331035532202]\n",
      "Intervalo de confiança(test_precision): [0.1904945435649966, 0.2711693989614796]\n",
      "Intervalo de confiança(test_f1): [0.025910319455828862, 0.04992234304368817]\n"
     ]
    }
   ],
   "source": [
    "relatorio_metricas(cv_resultados)"
   ]
  },
  {
   "cell_type": "markdown",
   "id": "22bb16d4",
   "metadata": {},
   "source": [
    "## estratificacao dos dados"
   ]
  },
  {
   "cell_type": "code",
   "execution_count": 20,
   "id": "530ff357",
   "metadata": {},
   "outputs": [
    {
     "data": {
      "text/plain": [
       "inadimplente\n",
       "0    0.912707\n",
       "1    0.087293\n",
       "Name: proportion, dtype: float64"
      ]
     },
     "execution_count": 20,
     "metadata": {},
     "output_type": "execute_result"
    }
   ],
   "source": [
    "data[\"inadimplente\"].value_counts(normalize=True)"
   ]
  },
  {
   "cell_type": "code",
   "execution_count": 21,
   "id": "4bb482c2",
   "metadata": {},
   "outputs": [
    {
     "data": {
      "text/plain": [
       "{'fit_time': array([0.11660004, 0.11495614, 0.11569285, 0.11689186, 0.11522508]),\n",
       " 'score_time': array([0.00258803, 0.0024209 , 0.00244617, 0.00263405, 0.00251818]),\n",
       " 'test_score': array([0.03491272, 0.02746567, 0.0286783 , 0.02244389, 0.0286783 ])}"
      ]
     },
     "execution_count": 21,
     "metadata": {},
     "output_type": "execute_result"
    }
   ],
   "source": [
    "from sklearn.model_selection import StratifiedKFold #mantem a proporcao entre os dados\n",
    "\n",
    "modelo = DecisionTreeClassifier(max_depth=10)\n",
    "skf = StratifiedKFold(n_splits=5, shuffle=True, random_state=5)\n",
    "cv_resultados = cross_validate(modelo, x, y, cv= skf, scoring=\"recall\")\n",
    "cv_resultados\n"
   ]
  },
  {
   "cell_type": "markdown",
   "id": "b062fa94",
   "metadata": {},
   "source": [
    "## Oversampling - Smote"
   ]
  },
  {
   "cell_type": "code",
   "execution_count": 22,
   "id": "347f1e01",
   "metadata": {},
   "outputs": [
    {
     "data": {
      "text/plain": [
       "inadimplente\n",
       "0    0.5\n",
       "1    0.5\n",
       "Name: proportion, dtype: float64"
      ]
     },
     "execution_count": 22,
     "metadata": {},
     "output_type": "execute_result"
    }
   ],
   "source": [
    "from imblearn.over_sampling import SMOTE\n",
    "\n",
    "oversample = SMOTE()\n",
    "x_balanceado, y_balanceado = oversample.fit_resample(x, y)\n",
    "\n",
    "y_balanceado.value_counts(normalize=True)\n"
   ]
  },
  {
   "cell_type": "code",
   "execution_count": 23,
   "id": "d9760053",
   "metadata": {},
   "outputs": [],
   "source": [
    "modelo = DecisionTreeClassifier(max_depth=10)\n",
    "skf = StratifiedKFold(n_splits=5, shuffle=True, random_state=5)\n",
    "cv_resultados = cross_validate(modelo, x_balanceado, y_balanceado, cv=skf, scoring=\"recall\")"
   ]
  },
  {
   "cell_type": "code",
   "execution_count": 24,
   "id": "6ba72a40",
   "metadata": {},
   "outputs": [
    {
     "data": {
      "text/plain": [
       "{'fit_time': array([0.24409485, 0.24455786, 0.24367285, 0.24207902, 0.26884604]),\n",
       " 'score_time': array([0.00403833, 0.00396514, 0.0039711 , 0.00421381, 0.00412893]),\n",
       " 'test_score': array([0.70901933, 0.71283703, 0.73839914, 0.72754384, 0.73979957])}"
      ]
     },
     "execution_count": 24,
     "metadata": {},
     "output_type": "execute_result"
    }
   ],
   "source": [
    "cv_resultados"
   ]
  },
  {
   "cell_type": "markdown",
   "id": "6a3e5a59",
   "metadata": {},
   "source": [
    "Alguns dos algoritmos de oversampling da biblioteca:\n",
    "\n",
    "RandomOversampler\n",
    "SMOTE\n",
    "ADASYN\n",
    "KMeansSMOTE\n",
    "Alguns dos algoritmos de undersampling da biblioteca:\n",
    "\n",
    "RandomUnderSampler\n",
    "NearMiss\n",
    "ClusterCentroids\n",
    "TomekLinks\n",
    "Algoritmos que combinam as duas técnicas de oversampling e undersampling:\n",
    "\n",
    "SMOTEENN\n",
    "SMOTETomek"
   ]
  },
  {
   "cell_type": "markdown",
   "id": "b372f8f8",
   "metadata": {},
   "source": [
    "o nosso resultado melhorou, porem é importante lembrar que os dados na vida real nao estarao balanceados, entao é importante fazer o teste com os dados desbalanceados"
   ]
  },
  {
   "cell_type": "code",
   "execution_count": 25,
   "id": "be6197f8",
   "metadata": {},
   "outputs": [],
   "source": [
    "from imblearn.pipeline import Pipeline as imbpipeline\n",
    "\n",
    "modelo = DecisionTreeClassifier()\n",
    "pipeline = imbpipeline([\n",
    "    (\"oversample\", SMOTE()),\n",
    "    (\"arvore\", modelo)\n",
    "])"
   ]
  },
  {
   "cell_type": "code",
   "execution_count": 26,
   "id": "bdcb30a0",
   "metadata": {},
   "outputs": [
    {
     "name": "stdout",
     "output_type": "stream",
     "text": [
      "Intervalo de confiança(test_score): [0.2372602904784956, 0.33245835921437594]\n"
     ]
    }
   ],
   "source": [
    "skf = StratifiedKFold(n_splits=5, shuffle=True, random_state=5)\n",
    "cv_resultados = cross_validate(pipeline, x, y, cv=skf, scoring=\"recall\")\n",
    "\n",
    "intevalo_confianca(cv_resultados)"
   ]
  },
  {
   "cell_type": "markdown",
   "id": "c704eaac",
   "metadata": {},
   "source": [
    "## Undersampling - NearMiss"
   ]
  },
  {
   "cell_type": "markdown",
   "id": "4d41e052",
   "metadata": {},
   "source": [
    "NearMiss, que consiste em selecionar amostras da categoria em maior quantidade que possuem um padrão próximo da categoria com menor quantidade, no intuito de preservar informações importantes para a modelagem do problema. Por utilizar um critério de seleção das amostras, esse método é bem mais recomendado que a utilização de um undersampling puramente aleatório, que pode eliminar informações relevantes dos dados.\n",
    "\n",
    "Para selecionar as amostras, esse algoritmo utiliza um método conhecido como vizinho mais próximo. Esse método é aplicado em 3 passos:\n",
    "\n",
    "1º passo: são calculadas distâncias entre todas as amostras da classe com maior frequência e da classe com menor frequência.\n",
    "2º passo: em seguida, para cada amostra da classe de menor frequência, são selecionadas n amostras da classe de maior frequência; por padrão esse número é 3 e vem daí o nome de vizinhos mais próximos. São selecionados 3 vizinhos mais próximos para cada amostra da classe de menor frequência.\n",
    "3º passo: a partir dos elementos que foram selecionados, ocorre um novo processo de seleção para que fique com a mesma quantidade de elementos da classe de menor frequência. Essa seleção final possui 3 diferentes versões:\n",
    "NearMiss versão 1: é calculada uma média entre as distâncias dos 3 vizinhos mais próximos de cada amostra da classe de maior frequência e são escolhidos aqueles que possuírem a menor média de distância.\n",
    "\n",
    "NearMiss versão 2: é calculada uma média entre as distâncias dos 3 vizinhos mais distantes de cada amostra da classe de maior frequência e são escolhidos aqueles que possuírem a menor média de distância.\n",
    "\n",
    "NearMiss versão 3: é dividido em duas etapas. Primeiramente, para cada elemento da classe de menor frequência, M vizinhos mais próximos são escolhidos e armazenados, por padrão o M também é de 3 vizinhos. Depois é calculada a média das distâncias entre os elementos armazenados e os elementos da classe de menor frequência e são escolhidos aqueles que possuírem maior média de distância."
   ]
  },
  {
   "cell_type": "code",
   "execution_count": 27,
   "id": "044bc4c4",
   "metadata": {},
   "outputs": [
    {
     "name": "stdout",
     "output_type": "stream",
     "text": [
      "Intervalo de confiança(test_score): [0.6196707527384523, 0.7043313518627164]\n"
     ]
    }
   ],
   "source": [
    "from imblearn.under_sampling import NearMiss\n",
    "\n",
    "modelo = DecisionTreeClassifier(max_depth=10)\n",
    "pipeline = imbpipeline([(\"undersample\", NearMiss(version=3)), (\"arvore\", modelo)])\n",
    "\n",
    "skf = StratifiedKFold(n_splits=5, shuffle=True, random_state=5)\n",
    "cv_resultados = cross_validate(pipeline, x, y, cv=skf, scoring=\"recall\")\n",
    "\n",
    "intevalo_confianca(cv_resultados)"
   ]
  },
  {
   "cell_type": "markdown",
   "id": "f796d3d1",
   "metadata": {},
   "source": [
    "## Testando o modelo"
   ]
  },
  {
   "cell_type": "code",
   "execution_count": 28,
   "id": "109cb108",
   "metadata": {},
   "outputs": [
    {
     "name": "stdout",
     "output_type": "stream",
     "text": [
      "              precision    recall  f1-score   support\n",
      "\n",
      "           0       0.94      0.48      0.64      7397\n",
      "           1       0.11      0.70      0.20       707\n",
      "\n",
      "    accuracy                           0.50      8104\n",
      "   macro avg       0.53      0.59      0.42      8104\n",
      "weighted avg       0.87      0.50      0.60      8104\n",
      "\n"
     ]
    }
   ],
   "source": [
    "undersample = NearMiss(version=3)\n",
    "x_balanceado, y_balanceado = undersample.fit_resample(x, y)\n",
    "\n",
    "modelo = DecisionTreeClassifier(max_depth=10)\n",
    "modelo.fit(x_balanceado, y_balanceado)\n",
    "y_prev = modelo.predict(x_teste)\n",
    "\n",
    "print(classification_report(y_teste, y_prev))"
   ]
  },
  {
   "cell_type": "code",
   "execution_count": 29,
   "id": "9e112a68",
   "metadata": {},
   "outputs": [
    {
     "data": {
      "text/plain": [
       "<sklearn.metrics._plot.confusion_matrix.ConfusionMatrixDisplay at 0x1162a7b10>"
      ]
     },
     "execution_count": 29,
     "metadata": {},
     "output_type": "execute_result"
    },
    {
     "data": {
      "image/png": "[encoded data removed]",
      "text/plain": [
       "<Figure size 640x480 with 2 Axes>"
      ]
     },
     "metadata": {},
     "output_type": "display_data"
    }
   ],
   "source": [
    "ConfusionMatrixDisplay.from_predictions(y_teste, y_prev)"
   ]
  },
  {
   "cell_type": "markdown",
   "id": "fc231d51",
   "metadata": {},
   "source": [
    "pudemos observar que esses passos nao foram suficientes para solucionar esse desafio"
   ]
  }
 ],
 "metadata": {
  "kernelspec": {
   "display_name": "3.13.0",
   "language": "python",
   "name": "python3"
  },
  "language_info": {
   "codemirror_mode": {
    "name": "ipython",
    "version": 3
   },
   "file_extension": ".py",
   "mimetype": "text/x-python",
   "name": "python",
   "nbconvert_exporter": "python",
   "pygments_lexer": "ipython3",
   "version": "3.13.0"
  }
 },
 "nbformat": 4,
 "nbformat_minor": 5
}
